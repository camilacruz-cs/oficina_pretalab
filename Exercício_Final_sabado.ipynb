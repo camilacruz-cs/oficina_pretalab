{
  "nbformat": 4,
  "nbformat_minor": 0,
  "metadata": {
    "colab": {
      "provenance": [],
      "include_colab_link": true
    },
    "kernelspec": {
      "name": "python3",
      "display_name": "Python 3"
    },
    "language_info": {
      "name": "python"
    }
  },
  "cells": [
    {
      "cell_type": "markdown",
      "metadata": {
        "id": "view-in-github",
        "colab_type": "text"
      },
      "source": [
        "<a href=\"https://colab.research.google.com/github/camilacruz-cs/oficina_pretalab/blob/main/Exerc%C3%ADcio_Final_sabado.ipynb\" target=\"_parent\"><img src=\"https://colab.research.google.com/assets/colab-badge.svg\" alt=\"Open In Colab\"/></a>"
      ]
    },
    {
      "cell_type": "markdown",
      "source": [
        "# Contagem de Medalhas\n",
        "\n",
        "Crie um programa que receba o número de medalhas de ouro, prata e bronze de um país nas Olimpíadas e calcule o total de medalhas.\n",
        "Quando escrever 'sair', o programa deverá encerrar e mostrar na tela o ranking de medalhas no formato:"
      ],
      "metadata": {
        "id": "RQN1e5FZY6SZ"
      }
    },
    {
      "cell_type": "code",
      "source": [
        "#Ranking de medalhas:\n",
        "#Brasil: 7 medalhas\n",
        "#França: 6 medalhas\n",
        "#Argentina: 3 medalhas"
      ],
      "metadata": {
        "id": "gCq_KLHzZSzb"
      },
      "execution_count": null,
      "outputs": []
    },
    {
      "cell_type": "code",
      "source": [
        "# Resposta aqui\n",
        "\n",
        "def calcular_total_medalhas(pais, ouro, prata, bronze):\n",
        "    return ouro + prata + bronze\n",
        "\n",
        "ranking_medalhas = {}\n",
        "\n",
        "while True:\n",
        "    pais = input(\"Digite o nome do país (ou 'sair' para encerrar): \")\n",
        "\n",
        "    if pais.lower() == 'sair':\n",
        "        break\n",
        "\n",
        "    ouro = int(input(f\"Digite o número de medalhas de ouro para {pais}: \"))\n",
        "    prata = int(input(f\"Digite o número de medalhas de prata para {pais}: \"))\n",
        "    bronze = int(input(f\"Digite o número de medalhas de bronze para {pais}: \"))\n",
        "\n",
        "    total_medalhas = calcular_total_medalhas(pais, ouro, prata, bronze)\n",
        "\n",
        "    ranking_medalhas[pais] = total_medalhas\n",
        "\n",
        "ranking_ordenado = sorted(ranking_medalhas.items(), key=lambda x: x[1], reverse=True)\n",
        "\n",
        "\n",
        "print(\"\\n# Ranking de medalhas:\")\n",
        "for idx, (pais, total) in enumerate(ranking_ordenado, start=1):\n",
        "    print(f\"{idx}# {pais}: {total} medalhas\")\n"
      ],
      "metadata": {
        "id": "0IixlbaL5Yq5",
        "outputId": "9fa5dfeb-2f09-4d71-d661-2015a653d1fe",
        "colab": {
          "base_uri": "https://localhost:8080/"
        }
      },
      "execution_count": 2,
      "outputs": [
        {
          "output_type": "stream",
          "name": "stdout",
          "text": [
            "Digite o nome do país (ou 'sair' para encerrar): Brasil\n",
            "Digite o número de medalhas de ouro para Brasil: 8\n",
            "Digite o número de medalhas de prata para Brasil: 5\n",
            "Digite o número de medalhas de bronze para Brasil: 6\n",
            "Digite o nome do país (ou 'sair' para encerrar): França\n",
            "Digite o número de medalhas de ouro para França: 78\n",
            "Digite o número de medalhas de prata para França: 7888\n",
            "Digite o número de medalhas de bronze para França: 45\n",
            "Digite o nome do país (ou 'sair' para encerrar): Sair\n",
            "\n",
            "# Ranking de medalhas:\n",
            "1# França: 8011 medalhas\n",
            "2# Brasil: 19 medalhas\n"
          ]
        }
      ]
    }
  ]
}